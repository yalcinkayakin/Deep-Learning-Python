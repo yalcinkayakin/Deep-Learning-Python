{
 "cells": [
  {
   "cell_type": "markdown",
   "metadata": {},
   "source": [
    "#AB2018 Derin Öğrenme Kursu\n",
    "\n",
    "Doğrusal model örneğini Tensoflow ile yapılıyoruz."
   ]
  },
  {
   "cell_type": "markdown",
   "metadata": {},
   "source": []
  },
  {
   "cell_type": "code",
   "execution_count": 11,
   "metadata": {
    "collapsed": true
   },
   "outputs": [],
   "source": [
    "import tensorflow as tf\n",
    "from tensorflow.examples.tutorials.mnist import input_data\n",
    "import matplotlib.pyplot as plt\n",
    "import numpy as np\n",
    "import random\n",
    "\n",
    "%matplotlib inline"
   ]
  },
  {
   "cell_type": "code",
   "execution_count": 12,
   "metadata": {},
   "outputs": [
    {
     "name": "stdout",
     "output_type": "stream",
     "text": [
      "Extracting data/MNIST/train-images-idx3-ubyte.gz\n",
      "Extracting data/MNIST/train-labels-idx1-ubyte.gz\n",
      "Extracting data/MNIST/t10k-images-idx3-ubyte.gz\n",
      "Extracting data/MNIST/t10k-labels-idx1-ubyte.gz\n"
     ]
    }
   ],
   "source": [
    "mnist =input_data.read_data_sets('data/MNIST',one_hot=True)"
   ]
  },
  {
   "cell_type": "code",
   "execution_count": 13,
   "metadata": {
    "collapsed": true
   },
   "outputs": [],
   "source": [
    "def show_digits(pixels):\n",
    "    img =pixels.reshape(28,28)\n",
    "    plt.axis('off')\n",
    "    plt.imshow(img,cmap='gray_r')"
   ]
  },
  {
   "cell_type": "code",
   "execution_count": 1,
   "metadata": {},
   "outputs": [
    {
     "ename": "NameError",
     "evalue": "name 'random' is not defined",
     "output_type": "error",
     "traceback": [
      "\u001b[0;31m---------------------------------------------------------------------------\u001b[0m",
      "\u001b[0;31mNameError\u001b[0m                                 Traceback (most recent call last)",
      "\u001b[0;32m<ipython-input-1-29762f2ce634>\u001b[0m in \u001b[0;36m<module>\u001b[0;34m()\u001b[0m\n\u001b[0;32m----> 1\u001b[0;31m \u001b[0msample\u001b[0m \u001b[0;34m=\u001b[0m\u001b[0mrandom\u001b[0m\u001b[0;34m.\u001b[0m\u001b[0mchoice\u001b[0m\u001b[0;34m(\u001b[0m\u001b[0mmnist\u001b[0m\u001b[0;34m.\u001b[0m\u001b[0mtrain\u001b[0m\u001b[0;34m.\u001b[0m\u001b[0mimages\u001b[0m\u001b[0;34m)\u001b[0m\u001b[0;34m\u001b[0m\u001b[0m\n\u001b[0m\u001b[1;32m      2\u001b[0m \u001b[0;34m\u001b[0m\u001b[0m\n\u001b[1;32m      3\u001b[0m \u001b[0;32mdef\u001b[0m \u001b[0mshow_digit\u001b[0m\u001b[0;34m(\u001b[0m\u001b[0mpixels\u001b[0m\u001b[0;34m)\u001b[0m\u001b[0;34m:\u001b[0m\u001b[0;34m\u001b[0m\u001b[0m\n\u001b[1;32m      4\u001b[0m     \u001b[0mimg\u001b[0m\u001b[0;34m=\u001b[0m\u001b[0mpixels\u001b[0m\u001b[0;34m.\u001b[0m\u001b[0mcopy\u001b[0m\u001b[0;34m(\u001b[0m\u001b[0;34m)\u001b[0m\u001b[0;34m.\u001b[0m\u001b[0mreshape\u001b[0m\u001b[0;34m(\u001b[0m\u001b[0;36m28\u001b[0m\u001b[0;34m,\u001b[0m\u001b[0;36m28\u001b[0m\u001b[0;34m)\u001b[0m\u001b[0;34m\u001b[0m\u001b[0m\n\u001b[1;32m      5\u001b[0m     \u001b[0mplt\u001b[0m\u001b[0;34m.\u001b[0m\u001b[0mimshow\u001b[0m\u001b[0;34m(\u001b[0m\u001b[0mimg\u001b[0m\u001b[0;34m,\u001b[0m \u001b[0mcmap\u001b[0m\u001b[0;34m=\u001b[0m\u001b[0;34m'gray_r'\u001b[0m\u001b[0;34m)\u001b[0m\u001b[0;34m\u001b[0m\u001b[0m\n",
      "\u001b[0;31mNameError\u001b[0m: name 'random' is not defined"
     ]
    }
   ],
   "source": [
    "sample =random.choice(mnist.train.images)\n",
    "\n",
    "def show_digit(pixels):\n",
    "    img=pixels.copy().reshape(28,28)\n",
    "    plt.imshow(img, cmap='gray_r')\n",
    "\n",
    "show_digits(sample)"
   ]
  },
  {
   "cell_type": "code",
   "execution_count": 15,
   "metadata": {},
   "outputs": [
    {
     "name": "stdout",
     "output_type": "stream",
     "text": [
      "Eğitim veriseti: 55000 \n",
      "Test veriseti: 10000 \n"
     ]
    }
   ],
   "source": [
    "print(u\"Eğitim veriseti: %d \" % len(mnist.train.images))\n",
    "print(u\"Test veriseti: %d \" % len(mnist.test.images))\n"
   ]
  },
  {
   "cell_type": "code",
   "execution_count": 16,
   "metadata": {
    "collapsed": true
   },
   "outputs": [],
   "source": [
    "X =tf.placeholder(tf.float32 , [None,784])\n",
    "y =tf.placeholder(tf.float32 , [None,10]) # \n",
    "\n",
    "W =tf.Variable(tf.truncated_normal(shape=[784,10],stddev=0.1))\n",
    "b =tf.Variable(tf.constant(shape=[10],value=0.1))"
   ]
  },
  {
   "cell_type": "code",
   "execution_count": 17,
   "metadata": {
    "collapsed": true
   },
   "outputs": [],
   "source": [
    "\n",
    "y_pred = tf.nn.softmax(tf.matmul(X,W) +b)\n",
    "\n",
    "loss =tf.reduce_mean(-tf.reduce_sum(y*tf.log(y_pred),reduction_indices=[1]))\n",
    "\n",
    "optimizer =tf.train.GradientDescentOptimizer(0.05).minimize(loss)\n",
    "\n",
    "correct_predictions =tf.equal(tf.argmax(y,1),tf.argmax(y_pred,1))\n",
    "accuracy =tf.reduce_mean(tf.cast(correct_predictions,tf.float32))\n"
   ]
  },
  {
   "cell_type": "code",
   "execution_count": 18,
   "metadata": {},
   "outputs": [
    {
     "name": "stdout",
     "output_type": "stream",
     "text": [
      "[*] Step: 0 , test accuracy: 15.26%\n",
      "[*] Step: 500 , test accuracy: 88.07%\n",
      "[*] Step: 1000 , test accuracy: 89.50%\n",
      "[*] Step: 1500 , test accuracy: 90.15%\n",
      "[*] Step: 2000 , test accuracy: 90.61%\n",
      "[*] Step: 2500 , test accuracy: 90.93%\n",
      "[*] Step: 3000 , test accuracy: 91.16%\n",
      "[*] Step: 3500 , test accuracy: 91.29%\n",
      "[*] Step: 4000 , test accuracy: 91.51%\n",
      "[*] Step: 4500 , test accuracy: 91.58%\n",
      "[*] Step: 5000 , test accuracy: 91.61%\n",
      "[*] Step: 5500 , test accuracy: 91.68%\n",
      "[*] Step: 6000 , test accuracy: 91.72%\n",
      "[*] Step: 6500 , test accuracy: 91.75%\n",
      "[*] Step: 7000 , test accuracy: 91.86%\n",
      "[*] Step: 7500 , test accuracy: 91.84%\n",
      "[*] Step: 8000 , test accuracy: 91.96%\n",
      "[*] Step: 8500 , test accuracy: 91.88%\n",
      "[*] Step: 9000 , test accuracy: 92.04%\n",
      "[*] Step: 9500 , test accuracy: 91.95%\n"
     ]
    }
   ],
   "source": [
    "sess =tf.Session()\n",
    "sess.run(tf.global_variables_initializer()) #sistemde \n",
    "\n",
    "for i in range(10000):\n",
    "    xs,ys =mnist.train.next_batch(128) #128 resim alıyor..tek seferde göndermek yerine tercih ediliyor\n",
    "    \n",
    "    sess.run(optimizer,feed_dict={X: xs,y:ys}) #\n",
    "    \n",
    "    if i % 500 ==0:\n",
    "        acc = sess.run(accuracy,feed_dict={X:mnist.test.images,\n",
    "                                          y:mnist.test.labels})\n",
    "        print(\"[*] Step: %d , test accuracy: %.2f%%\" % (i,acc * 100))\n"
   ]
  },
  {
   "cell_type": "code",
   "execution_count": 19,
   "metadata": {},
   "outputs": [
    {
     "name": "stdout",
     "output_type": "stream",
     "text": [
      "Resmin 0 olma itimali: 99.80%\n",
      "Resmin 1 olma itimali: 0.00%\n",
      "Resmin 2 olma itimali: 0.03%\n",
      "Resmin 3 olma itimali: 0.00%\n",
      "Resmin 4 olma itimali: 0.00%\n",
      "Resmin 5 olma itimali: 0.12%\n",
      "Resmin 6 olma itimali: 0.03%\n",
      "Resmin 7 olma itimali: 0.00%\n",
      "Resmin 8 olma itimali: 0.01%\n",
      "Resmin 9 olma itimali: 0.00%\n"
     ]
    },
    {
     "data": {
      "image/png": "[encoded data removed]",
      "text/plain": [
       "<matplotlib.figure.Figure at 0x7f4b31553890>"
      ]
     },
     "metadata": {},
     "output_type": "display_data"
    }
   ],
   "source": [
    "sample = random.choice(mnist.test.images)\n",
    "\n",
    "predictions =sess.run(y_pred,feed_dict={X :[sample]})[0]\n",
    "\n",
    "for i,v in enumerate(predictions):\n",
    "    print(u\"Resmin %d olma itimali: %.2f%%\" % (i,v *100 ))\n",
    "\n",
    "show_digit(sample)"
   ]
  },
  {
   "cell_type": "code",
   "execution_count": 20,
   "metadata": {},
   "outputs": [
    {
     "name": "stdout",
     "output_type": "stream",
     "text": [
      "Resmin 0 olma itimali: 0.02%\n",
      "Resmin 1 olma itimali: 0.00%\n",
      "Resmin 2 olma itimali: 1.22%\n",
      "Resmin 3 olma itimali: 85.49%\n",
      "Resmin 4 olma itimali: 0.00%\n",
      "Resmin 5 olma itimali: 13.17%\n",
      "Resmin 6 olma itimali: 0.00%\n",
      "Resmin 7 olma itimali: 0.06%\n",
      "Resmin 8 olma itimali: 0.03%\n",
      "Resmin 9 olma itimali: 0.00%\n"
     ]
    },
    {
     "data": {
      "image/png": "[encoded data removed]",
      "text/plain": [
       "<matplotlib.figure.Figure at 0x7f4b31415490>"
      ]
     },
     "metadata": {},
     "output_type": "display_data"
    }
   ],
   "source": [
    "random_img = np.random.rand(784)\n",
    "\n",
    "predictions =sess.run(y_pred,feed_dict={X: [random_img]})[0]\n",
    "\n",
    "for i,v in enumerate(predictions):\n",
    "    print(u\"Resmin %d olma itimali: %.2f%%\" % (i,v *100 ))\n",
    "show_digit(random_img)"
   ]
  },
  {
   "cell_type": "code",
   "execution_count": null,
   "metadata": {
    "collapsed": true
   },
   "outputs": [],
   "source": []
  },
  {
   "cell_type": "code",
   "execution_count": null,
   "metadata": {
    "collapsed": true
   },
   "outputs": [],
   "source": []
  },
  {
   "cell_type": "code",
   "execution_count": null,
   "metadata": {
    "collapsed": true
   },
   "outputs": [],
   "source": []
  }
 ],
 "metadata": {
  "kernelspec": {
   "display_name": "Python 2",
   "language": "python",
   "name": "python2"
  },
  "language_info": {
   "codemirror_mode": {
    "name": "ipython",
    "version": 2
   },
   "file_extension": ".py",
   "mimetype": "text/x-python",
   "name": "python",
   "nbconvert_exporter": "python",
   "pygments_lexer": "ipython2",
   "version": "2.7.14"
  }
 },
 "nbformat": 4,
 "nbformat_minor": 2
}
