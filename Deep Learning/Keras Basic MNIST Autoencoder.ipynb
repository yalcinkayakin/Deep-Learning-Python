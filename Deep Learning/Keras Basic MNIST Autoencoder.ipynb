{
 "cells": [
  {
   "cell_type": "code",
   "execution_count": 1,
   "metadata": {
    "collapsed": true
   },
   "outputs": [],
   "source": [
    "import keras\n",
    "from keras.models import Model\n",
    "from keras.layers import Dense,Input\n",
    "from keras.datasets import mnist\n",
    "from keras import backend as K\n",
    "\n",
    "import numpy as np\n",
    "import random\n",
    "import matplotlib.pyplot as plt\n",
    "\n",
    "%matplotlib inline"
   ]
  },
  {
   "cell_type": "code",
   "execution_count": 2,
   "metadata": {
    "collapsed": true
   },
   "outputs": [],
   "source": [
    "(X_train , _),(X_test , _) =mnist.load_data()\n",
    "\n",
    "X_train=X_train.reshape(-1,784).astype('float32')/255.0\n",
    "X_test=X_train.reshape(-1,784).astype('float32')/255.0\n",
    "\n"
   ]
  },
  {
   "cell_type": "code",
   "execution_count": 4,
   "metadata": {
    "collapsed": true
   },
   "outputs": [],
   "source": [
    "def show_image(pixels):\n",
    "    img=pixels.reshape(28,28)\n",
    "    \n",
    "    plt.axis('off')\n",
    "    plt.imshow(img,cmap='gray_r')\n",
    "    "
   ]
  },
  {
   "cell_type": "code",
   "execution_count": 11,
   "metadata": {
    "collapsed": true
   },
   "outputs": [],
   "source": [
    "input_layer=Input(shape=(784,))\n",
    "\n",
    "hidden1=Dense(300,activation='relu')(input_layer)\n",
    "hidden2=Dense(144,activation='relu')(hidden1)\n",
    "\n",
    "hidden3=Dense(300,activation='relu')(hidden2)\n",
    "decoder=Dense(784,activation='relu')(hidden3)\n",
    "\n",
    "encoder=K.function([input_layer],[hidden2])\n",
    "\n",
    "model =Model(input_layer,decoder)\n",
    "model.compile(optimizer=keras.optimizers.Adadelta(),loss='binary_crossentropy')\n"
   ]
  },
  {
   "cell_type": "code",
   "execution_count": 12,
   "metadata": {},
   "outputs": [
    {
     "name": "stdout",
     "output_type": "stream",
     "text": [
      "Train on 60000 samples, validate on 60000 samples\n",
      "Epoch 1/12\n",
      "60000/60000 [==============================] - 55s 923us/step - loss: 0.4230 - val_loss: 0.0078\n",
      "Epoch 2/12\n",
      "60000/60000 [==============================] - 55s 917us/step - loss: 0.3048 - val_loss: 0.0079\n",
      "Epoch 3/12\n",
      "60000/60000 [==============================] - 54s 894us/step - loss: 0.2682 - val_loss: 0.0080\n",
      "Epoch 4/12\n",
      "60000/60000 [==============================] - 55s 919us/step - loss: 0.2516 - val_loss: 0.0082\n",
      "Epoch 5/12\n",
      "60000/60000 [==============================] - 54s 892us/step - loss: 0.2423 - val_loss: 0.0084\n",
      "Epoch 6/12\n",
      "60000/60000 [==============================] - 53s 881us/step - loss: 0.2349 - val_loss: 0.0085\n",
      "Epoch 7/12\n",
      "60000/60000 [==============================] - 53s 888us/step - loss: 0.2142 - val_loss: 0.0085\n",
      "Epoch 8/12\n",
      "60000/60000 [==============================] - 54s 894us/step - loss: 0.1986 - val_loss: 0.0084\n",
      "Epoch 9/12\n",
      "60000/60000 [==============================] - 54s 897us/step - loss: 0.1927 - val_loss: 0.0085\n",
      "Epoch 10/12\n",
      "60000/60000 [==============================] - 55s 911us/step - loss: 0.1897 - val_loss: 0.0085\n",
      "Epoch 11/12\n",
      "60000/60000 [==============================] - 56s 934us/step - loss: 0.1826 - val_loss: 0.0085\n",
      "Epoch 12/12\n",
      "60000/60000 [==============================] - 53s 892us/step - loss: 0.1860 - val_loss: 0.0085\n"
     ]
    },
    {
     "data": {
      "text/plain": [
       "<keras.callbacks.History at 0x7f08f4797210>"
      ]
     },
     "execution_count": 12,
     "metadata": {},
     "output_type": "execute_result"
    }
   ],
   "source": [
    "model.fit(X_train,X_train,epochs=12,batch_size=256,validation_data=(X_test,X_test))"
   ]
  },
  {
   "cell_type": "code",
   "execution_count": 37,
   "metadata": {},
   "outputs": [
    {
     "data": {
      "image/png": "[encoded data removed]",
      "text/plain": [
       "<matplotlib.figure.Figure at 0x7f088d7bc410>"
      ]
     },
     "metadata": {},
     "output_type": "display_data"
    }
   ],
   "source": [
    "sample=random.choice(X_test)\n",
    "\n",
    "show_image(sample)"
   ]
  },
  {
   "cell_type": "code",
   "execution_count": 38,
   "metadata": {},
   "outputs": [
    {
     "data": {
      "image/png": "[encoded data removed]",
      "text/plain": [
       "<matplotlib.figure.Figure at 0x7f088d7cb250>"
      ]
     },
     "metadata": {},
     "output_type": "display_data"
    }
   ],
   "source": [
    "reconstructed=model.predict(sample.reshape(1,-1))\n",
    "\n",
    "show_image(reconstructed)"
   ]
  },
  {
   "cell_type": "code",
   "execution_count": 40,
   "metadata": {},
   "outputs": [
    {
     "ename": "ValueError",
     "evalue": "cannot reshape array of size 1 into shape (8,8)",
     "output_type": "error",
     "traceback": [
      "\u001b[0;31m---------------------------------------------------------------------------\u001b[0m",
      "\u001b[0;31mValueError\u001b[0m                                Traceback (most recent call last)",
      "\u001b[0;32m<ipython-input-40-577ec3b27b51>\u001b[0m in \u001b[0;36m<module>\u001b[0;34m()\u001b[0m\n\u001b[1;32m      1\u001b[0m \u001b[0mvalues\u001b[0m\u001b[0;34m=\u001b[0m\u001b[0mencoder\u001b[0m\u001b[0;34m(\u001b[0m\u001b[0;34m[\u001b[0m\u001b[0msample\u001b[0m\u001b[0;34m.\u001b[0m\u001b[0mreshape\u001b[0m\u001b[0;34m(\u001b[0m\u001b[0;36m1\u001b[0m\u001b[0;34m,\u001b[0m\u001b[0;34m-\u001b[0m\u001b[0;36m1\u001b[0m\u001b[0;34m)\u001b[0m\u001b[0;34m]\u001b[0m\u001b[0;34m)\u001b[0m\u001b[0;34m[\u001b[0m\u001b[0;36m0\u001b[0m\u001b[0;34m]\u001b[0m\u001b[0;34m\u001b[0m\u001b[0m\n\u001b[0;32m----> 2\u001b[0;31m \u001b[0;32mprint\u001b[0m \u001b[0mvalues\u001b[0m\u001b[0;34m.\u001b[0m\u001b[0mshape\u001b[0m \u001b[0;34m/\u001b[0m \u001b[0mnp\u001b[0m\u001b[0;34m.\u001b[0m\u001b[0mmax\u001b[0m\u001b[0;34m(\u001b[0m\u001b[0mvalues\u001b[0m\u001b[0;34m)\u001b[0m\u001b[0;34m.\u001b[0m\u001b[0mreshape\u001b[0m\u001b[0;34m(\u001b[0m\u001b[0;36m8\u001b[0m\u001b[0;34m,\u001b[0m\u001b[0;36m8\u001b[0m\u001b[0;34m)\u001b[0m\u001b[0;34m\u001b[0m\u001b[0m\n\u001b[0m\u001b[1;32m      3\u001b[0m \u001b[0;34m\u001b[0m\u001b[0m\n\u001b[1;32m      4\u001b[0m \u001b[0mplt\u001b[0m\u001b[0;34m.\u001b[0m\u001b[0mimshow\u001b[0m\u001b[0;34m(\u001b[0m\u001b[0mvalues\u001b[0m\u001b[0;34m,\u001b[0m\u001b[0mcmap\u001b[0m\u001b[0;34m=\u001b[0m\u001b[0;34m'gray_r'\u001b[0m\u001b[0;34m)\u001b[0m\u001b[0;34m\u001b[0m\u001b[0m\n",
      "\u001b[0;31mValueError\u001b[0m: cannot reshape array of size 1 into shape (8,8)"
     ]
    }
   ],
   "source": [
    "values=encoder([sample.reshape(1,-1)])[0]\n",
    "print values.shape / np.max(values).reshape(8,8)\n",
    "\n",
    "plt.imshow(values,cmap='gray_r')"
   ]
  }
 ],
 "metadata": {
  "kernelspec": {
   "display_name": "Python 2",
   "language": "python",
   "name": "python2"
  },
  "language_info": {
   "codemirror_mode": {
    "name": "ipython",
    "version": 2
   },
   "file_extension": ".py",
   "mimetype": "text/x-python",
   "name": "python",
   "nbconvert_exporter": "python",
   "pygments_lexer": "ipython2",
   "version": "2.7.14"
  }
 },
 "nbformat": 4,
 "nbformat_minor": 2
}
