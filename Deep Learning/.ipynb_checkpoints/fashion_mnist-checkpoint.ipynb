{
 "cells": [
  {
   "cell_type": "code",
   "execution_count": 0,
   "metadata": {
    "colab": {
     "autoexec": {
      "startup": false,
      "wait_interval": 0
     }
    },
    "colab_type": "code",
    "collapsed": true,
    "id": "mG5W0d2IB5UK"
   },
   "outputs": [],
   "source": [
    "from keras.models import Sequential,load_model\n",
    "from keras.layers import Conv2D,MaxPooling2D,Dense,Flatten,Activation\n",
    "from keras.datasets import fashion_mnist\n",
    "from keras.utils.np_utils import to_categorical"
   ]
  },
  {
   "cell_type": "code",
   "execution_count": 2,
   "metadata": {
    "colab": {
     "autoexec": {
      "startup": false,
      "wait_interval": 0
     },
     "base_uri": "https://localhost:8080/",
     "height": 34,
     "output_extras": [
      {
       "item_id": 1
      }
     ]
    },
    "colab_type": "code",
    "executionInfo": {
     "elapsed": 5461,
     "status": "ok",
     "timestamp": 1518623878618,
     "user": {
      "displayName": "akın yalçınkaya",
      "photoUrl": "//lh4.googleusercontent.com/-Ee_c7axErkI/AAAAAAAAAAI/AAAAAAAAABQ/JwfGPdH--7M/s50-c-k-no/photo.jpg",
      "userId": "100367937902555164218"
     },
     "user_tz": -180
    },
    "id": "DOAUdSDeCU9t",
    "outputId": "4fedb1bf-f614-484d-d0d3-22c4a41850bd"
   },
   "outputs": [
    {
     "name": "stderr",
     "output_type": "stream",
     "text": [
      "Using TensorFlow backend.\n"
     ]
    }
   ],
   "source": [
    "# https://keras.io/\n",
    "!pip install -q keras\n",
    "import keras"
   ]
  },
  {
   "cell_type": "code",
   "execution_count": 5,
   "metadata": {
    "colab": {
     "autoexec": {
      "startup": false,
      "wait_interval": 0
     },
     "base_uri": "https://localhost:8080/",
     "height": 224,
     "output_extras": [
      {
       "item_id": 29
      }
     ]
    },
    "colab_type": "code",
    "executionInfo": {
     "elapsed": 14069,
     "status": "ok",
     "timestamp": 1518623919363,
     "user": {
      "displayName": "akın yalçınkaya",
      "photoUrl": "//lh4.googleusercontent.com/-Ee_c7axErkI/AAAAAAAAAAI/AAAAAAAAABQ/JwfGPdH--7M/s50-c-k-no/photo.jpg",
      "userId": "100367937902555164218"
     },
     "user_tz": -180
    },
    "id": "XiN_RzUKB9e8",
    "outputId": "e8052698-39aa-478c-81cf-e425b516614a"
   },
   "outputs": [
    {
     "name": "stdout",
     "output_type": "stream",
     "text": [
      "Downloading data from http://fashion-mnist.s3-website.eu-central-1.amazonaws.com/train-labels-idx1-ubyte.gz\n",
      "32768/29515 [=================================] - 0s 3us/step\n",
      "40960/29515 [=========================================] - 0s 2us/step\n",
      "Downloading data from http://fashion-mnist.s3-website.eu-central-1.amazonaws.com/train-images-idx3-ubyte.gz\n",
      "26427392/26421880 [==============================] - 6s 0us/step\n",
      "26435584/26421880 [==============================] - 6s 0us/step\n",
      "Downloading data from http://fashion-mnist.s3-website.eu-central-1.amazonaws.com/t10k-labels-idx1-ubyte.gz\n",
      "16384/5148 [===============================================================================================] - 0s 0us/step\n",
      "Downloading data from http://fashion-mnist.s3-website.eu-central-1.amazonaws.com/t10k-images-idx3-ubyte.gz\n",
      "4423680/4422102 [==============================] - 3s 1us/step\n",
      "4431872/4422102 [==============================] - 3s 1us/step\n"
     ]
    }
   ],
   "source": [
    "(X_train,y_train),(X_test,y_test)=fashion_mnist.load_data()"
   ]
  },
  {
   "cell_type": "code",
   "execution_count": 0,
   "metadata": {
    "colab": {
     "autoexec": {
      "startup": false,
      "wait_interval": 0
     }
    },
    "colab_type": "code",
    "collapsed": true,
    "id": "S1h6uAZXB98x"
   },
   "outputs": [],
   "source": [
    "X_train=X_train.reshape(-1,28,28,1)\n",
    "X_test=X_test.reshape(-1,28,28,1)\n",
    "\n",
    "X_train=X_train.astype('float32')\n",
    "X_test=X_test.astype('float32')\n",
    "\n",
    "X_train=X_train/255.0\n",
    "X_test=X_test/255.0\n",
    "\n",
    "y_train=to_categorical(y_train)\n",
    "y_test=to_categorical(y_test)"
   ]
  },
  {
   "cell_type": "code",
   "execution_count": 0,
   "metadata": {
    "colab": {
     "autoexec": {
      "startup": false,
      "wait_interval": 0
     }
    },
    "colab_type": "code",
    "collapsed": true,
    "id": "ZcyrPN03B-Ny"
   },
   "outputs": [],
   "source": [
    "model=Sequential()\n",
    "\n",
    "model.add(Conv2D(32,(3,3),input_shape=(28,28,1)))\n",
    "model.add(Activation('relu'))\n",
    "model.add(Conv2D(32,(3,3),activation='relu'))\n",
    "\n",
    "model.add(MaxPooling2D(pool_size=(2,2)))\n",
    "model.add(Flatten())\n",
    "\n",
    "model.add(Dense(64,activation='relu'))\n",
    "\n",
    "model.add(Dense(10,activation='softmax'))\n",
    "\n",
    "model.compile(optimizer='rmsprop',\n",
    "             loss='categorical_crossentropy',\n",
    "             metrics=['accuracy'])"
   ]
  },
  {
   "cell_type": "code",
   "execution_count": 8,
   "metadata": {
    "colab": {
     "autoexec": {
      "startup": false,
      "wait_interval": 0
     },
     "base_uri": "https://localhost:8080/",
     "height": 411,
     "output_extras": [
      {
       "item_id": 119
      },
      {
       "item_id": 300
      },
      {
       "item_id": 524
      },
      {
       "item_id": 662
      },
      {
       "item_id": 906
      },
      {
       "item_id": 1175
      },
      {
       "item_id": 1289
      },
      {
       "item_id": 1519
      },
      {
       "item_id": 1819
      },
      {
       "item_id": 1912
      },
      {
       "item_id": 2133
      },
      {
       "item_id": 2389
      },
      {
       "item_id": 2506
      },
      {
       "item_id": 2742
      },
      {
       "item_id": 3011
      },
      {
       "item_id": 3043
      },
      {
       "item_id": 3044
      }
     ]
    },
    "colab_type": "code",
    "executionInfo": {
     "elapsed": 999636,
     "status": "ok",
     "timestamp": 1518624949237,
     "user": {
      "displayName": "akın yalçınkaya",
      "photoUrl": "//lh4.googleusercontent.com/-Ee_c7axErkI/AAAAAAAAAAI/AAAAAAAAABQ/JwfGPdH--7M/s50-c-k-no/photo.jpg",
      "userId": "100367937902555164218"
     },
     "user_tz": -180
    },
    "id": "Y39lde84B-jN",
    "outputId": "8a8da3ac-213e-432a-dd06-651bd2be876c"
   },
   "outputs": [
    {
     "name": "stdout",
     "output_type": "stream",
     "text": [
      "Train on 48000 samples, validate on 12000 samples\n",
      "Epoch 1/10\n",
      "22560/48000 [=============>................] - ETA: 46s - loss: 0.5265 - acc: 0.810748000/48000 [==============================] - 95s 2ms/step - loss: 0.4271 - acc: 0.8465 - val_loss: 0.3100 - val_acc: 0.8901\n",
      "Epoch 2/10\n",
      " 4768/48000 [=>............................] - ETA: 1:22 - loss: 0.2890 - acc: 0.898945472/48000 [===========================>..] - ETA: 5s - loss: 0.2694 - acc: 0.904048000/48000 [==============================] - 109s 2ms/step - loss: 0.2684 - acc: 0.9044 - val_loss: 0.2604 - val_acc: 0.9056\n",
      "Epoch 3/10\n",
      "13184/48000 [=======>......................] - ETA: 1:38 - loss: 0.2182 - acc: 0.919948000/48000 [==============================] - 118s 2ms/step - loss: 0.2235 - acc: 0.9190 - val_loss: 0.2401 - val_acc: 0.9174\n",
      "Epoch 4/10\n",
      "  320/48000 [..............................] - ETA: 1:29 - loss: 0.1664 - acc: 0.946943296/48000 [==========================>...] - ETA: 9s - loss: 0.1924 - acc: 0.930948000/48000 [==============================] - 98s 2ms/step - loss: 0.1950 - acc: 0.9301 - val_loss: 0.2476 - val_acc: 0.9141\n",
      "Epoch 5/10\n",
      "12608/48000 [======>.......................] - ETA: 1:08 - loss: 0.1610 - acc: 0.941748000/48000 [==============================] - 96s 2ms/step - loss: 0.1733 - acc: 0.9381 - val_loss: 0.2379 - val_acc: 0.9197\n",
      "Epoch 6/10\n",
      "  960/48000 [..............................] - ETA: 1:28 - loss: 0.1333 - acc: 0.960447968/48000 [============================>.] - ETA: 0s - loss: 0.1563 - acc: 0.945348000/48000 [==============================] - 96s 2ms/step - loss: 0.1563 - acc: 0.9453 - val_loss: 0.2599 - val_acc: 0.9179\n",
      "Epoch 7/10\n",
      "14368/48000 [=======>......................] - ETA: 1:03 - loss: 0.1389 - acc: 0.952548000/48000 [==============================] - 96s 2ms/step - loss: 0.1401 - acc: 0.9508 - val_loss: 0.2535 - val_acc: 0.9163\n",
      "Epoch 8/10\n",
      " 1568/48000 [..............................] - ETA: 1:28 - loss: 0.1217 - acc: 0.958542208/48000 [=========================>....] - ETA: 10s - loss: 0.1264 - acc: 0.955948000/48000 [==============================] - 97s 2ms/step - loss: 0.1264 - acc: 0.9560 - val_loss: 0.3167 - val_acc: 0.9104\n",
      "Epoch 9/10\n",
      "12160/48000 [======>.......................] - ETA: 1:07 - loss: 0.1058 - acc: 0.963248000/48000 [==============================] - 96s 2ms/step - loss: 0.1158 - acc: 0.9603 - val_loss: 0.3239 - val_acc: 0.9180\n",
      "Epoch 10/10\n",
      "  800/48000 [..............................] - ETA: 1:29 - loss: 0.0850 - acc: 0.963743168/48000 [=========================>....] - ETA: 9s - loss: 0.1044 - acc: 0.963948000/48000 [==============================] - 96s 2ms/step - loss: 0.1060 - acc: 0.9635 - val_loss: 0.3205 - val_acc: 0.9143\n"
     ]
    },
    {
     "data": {
      "text/plain": [
       "<keras.callbacks.History at 0x7f8222a46750>"
      ]
     },
     "execution_count": 8,
     "metadata": {
      "tags": []
     },
     "output_type": "execute_result"
    }
   ],
   "source": [
    "model.fit(X_train,y_train,verbose=1,epochs=10,validation_split=0.2)"
   ]
  },
  {
   "cell_type": "code",
   "execution_count": 10,
   "metadata": {
    "colab": {
     "autoexec": {
      "startup": false,
      "wait_interval": 0
     },
     "base_uri": "https://localhost:8080/",
     "height": 68,
     "output_extras": [
      {
       "item_id": 13
      }
     ]
    },
    "colab_type": "code",
    "executionInfo": {
     "elapsed": 4380,
     "status": "ok",
     "timestamp": 1518625052944,
     "user": {
      "displayName": "akın yalçınkaya",
      "photoUrl": "//lh4.googleusercontent.com/-Ee_c7axErkI/AAAAAAAAAAI/AAAAAAAAABQ/JwfGPdH--7M/s50-c-k-no/photo.jpg",
      "userId": "100367937902555164218"
     },
     "user_tz": -180
    },
    "id": "rOEZcgUAB-4O",
    "outputId": "2a94e36a-3dd1-426f-b731-99808340c5e8"
   },
   "outputs": [
    {
     "name": "stdout",
     "output_type": "stream",
     "text": [
      "10000/10000 [==============================] - 4s 385us/step\n",
      "Kayıp değeri(loss): 0.339749727425\n",
      "Test değeri :0.9118\n"
     ]
    }
   ],
   "source": [
    "correction=model.evaluate(X_test.reshape(-1,28,28,1),y_test,verbose=1)\n",
    "print('Kayıp değeri(loss): {}'.format(correction[0]))\n",
    "print('Test değeri :{}'.format(correction[1]))"
   ]
  },
  {
   "cell_type": "code",
   "execution_count": 0,
   "metadata": {
    "colab": {
     "autoexec": {
      "startup": false,
      "wait_interval": 0
     }
    },
    "colab_type": "code",
    "collapsed": true,
    "id": "gEbTiLPNB_N_"
   },
   "outputs": [],
   "source": []
  }
 ],
 "metadata": {
  "colab": {
   "default_view": {},
   "name": "fashion-mnist.ipynb",
   "provenance": [],
   "version": "0.3.2",
   "views": {}
  },
  "kernelspec": {
   "display_name": "Python 2",
   "language": "python",
   "name": "python2"
  },
  "language_info": {
   "codemirror_mode": {
    "name": "ipython",
    "version": 2
   },
   "file_extension": ".py",
   "mimetype": "text/x-python",
   "name": "python",
   "nbconvert_exporter": "python",
   "pygments_lexer": "ipython2",
   "version": "2.7.14"
  }
 },
 "nbformat": 4,
 "nbformat_minor": 1
}
