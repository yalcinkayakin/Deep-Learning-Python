{
 "cells": [
  {
   "cell_type": "code",
   "execution_count": 2,
   "metadata": {},
   "outputs": [],
   "source": [
    "import tensorflow as tf\n",
    "from tensorflow.examples.tutorials.mnist import input_data\n",
    "import matplotlib.pyplot as plt\n",
    "import numpy as np\n",
    "import random \n",
    "\n",
    "%matplotlib inline\n"
   ]
  },
  {
   "cell_type": "code",
   "execution_count": 4,
   "metadata": {},
   "outputs": [
    {
     "name": "stdout",
     "output_type": "stream",
     "text": [
      "Successfully downloaded train-images-idx3-ubyte.gz 9912422 bytes.\n",
      "Extracting data/MNIST/train-images-idx3-ubyte.gz\n",
      "Successfully downloaded train-labels-idx1-ubyte.gz 28881 bytes.\n",
      "Extracting data/MNIST/train-labels-idx1-ubyte.gz\n",
      "Successfully downloaded t10k-images-idx3-ubyte.gz 1648877 bytes.\n",
      "Extracting data/MNIST/t10k-images-idx3-ubyte.gz\n",
      "Successfully downloaded t10k-labels-idx1-ubyte.gz 4542 bytes.\n",
      "Extracting data/MNIST/t10k-labels-idx1-ubyte.gz\n"
     ]
    }
   ],
   "source": [
    "mnist=input_data.read_data_sets('data/MNIST',one_hot=True)"
   ]
  },
  {
   "cell_type": "code",
   "execution_count": 7,
   "metadata": {
    "collapsed": true
   },
   "outputs": [],
   "source": [
    "def show_digits(pixels):\n",
    "    img=pixels.reshape(28,28)\n",
    "    plt.axis('off')\n",
    "    plt.imshow(img,cmap='gray_r')"
   ]
  },
  {
   "cell_type": "code",
   "execution_count": 9,
   "metadata": {},
   "outputs": [
    {
     "data": {
      "image/png": "[encoded data removed]",
      "text/plain": [
       "<matplotlib.figure.Figure at 0x7f5dc0cf47d0>"
      ]
     },
     "metadata": {},
     "output_type": "display_data"
    }
   ],
   "source": [
    "sample=random.choice(mnist.train.images)\n",
    "\n",
    "def show_digits(pixels):\n",
    "    img=pixels.copy().reshape(28,28)\n",
    "    plt.imshow(img,cmap='gray_r')\n",
    "    \n",
    "show_digits(sample)"
   ]
  },
  {
   "cell_type": "code",
   "execution_count": 10,
   "metadata": {},
   "outputs": [
    {
     "name": "stdout",
     "output_type": "stream",
     "text": [
      "Eğitim veriseti: 55000\n",
      "Test veriseti:  10000\n"
     ]
    }
   ],
   "source": [
    "print(u'Eğitim veriseti: %d' % len(mnist.train.images))\n",
    "print(u'Test veriseti:  %d' % len(mnist.test.images))"
   ]
  },
  {
   "cell_type": "code",
   "execution_count": 11,
   "metadata": {
    "collapsed": true
   },
   "outputs": [],
   "source": [
    "X=tf.placeholder(tf.float32,[None,784])\n",
    "y=tf.placeholder(tf.float32,[None,10])\n",
    "\n",
    "W=tf.Variable(tf.truncated_normal(shape=[784,10],stddev=0.1))\n",
    "b=tf.Variable(tf.constant(shape=[10],value=0.1))\n"
   ]
  },
  {
   "cell_type": "code",
   "execution_count": 12,
   "metadata": {
    "collapsed": true
   },
   "outputs": [],
   "source": [
    "y_pred =tf.nn.softmax(tf.matmul(X,W)+b)\n",
    "\n",
    "loss=tf.reduce_mean(-tf.reduce_sum(y*tf.log(y_pred),reduction_indices=[1]))\n",
    "\n",
    "optimizer=tf.train.GradientDescentOptimizer(0.05).minimize(loss)\n",
    "\n",
    "correct_predicitons=tf.equal(tf.argmax(y,1),tf.argmax(y_pred,1))\n",
    "accuracy=tf.reduce_mean(tf.cast(correct_predicitons,tf.float32))"
   ]
  },
  {
   "cell_type": "code",
   "execution_count": 14,
   "metadata": {},
   "outputs": [
    {
     "name": "stdout",
     "output_type": "stream",
     "text": [
      "[*] Step:0 , test_accuracy:10.44%\n",
      "[*] Step:500 , test_accuracy:88.30%\n",
      "[*] Step:1000 , test_accuracy:89.87%\n",
      "[*] Step:1500 , test_accuracy:90.20%\n",
      "[*] Step:2000 , test_accuracy:90.67%\n",
      "[*] Step:2500 , test_accuracy:90.91%\n",
      "[*] Step:3000 , test_accuracy:91.05%\n",
      "[*] Step:3500 , test_accuracy:91.34%\n",
      "[*] Step:4000 , test_accuracy:91.48%\n",
      "[*] Step:4500 , test_accuracy:91.59%\n",
      "[*] Step:5000 , test_accuracy:91.61%\n",
      "[*] Step:5500 , test_accuracy:91.75%\n",
      "[*] Step:6000 , test_accuracy:91.64%\n",
      "[*] Step:6500 , test_accuracy:91.81%\n",
      "[*] Step:7000 , test_accuracy:91.86%\n",
      "[*] Step:7500 , test_accuracy:91.88%\n",
      "[*] Step:8000 , test_accuracy:91.90%\n",
      "[*] Step:8500 , test_accuracy:92.05%\n",
      "[*] Step:9000 , test_accuracy:92.06%\n",
      "[*] Step:9500 , test_accuracy:92.13%\n"
     ]
    }
   ],
   "source": [
    "sess=tf.Session()\n",
    "sess.run(tf.global_variables_initializer())\n",
    "\n",
    "for i in range(10000):\n",
    "    xs,ys=mnist.train.next_batch(128)\n",
    "    \n",
    "    sess.run(optimizer,feed_dict={X:xs,y:ys})\n",
    "    \n",
    "    if i % 500 ==0:\n",
    "        acc = sess.run(accuracy,feed_dict={X:mnist.test.images,\n",
    "                                          y:mnist.test.labels})\n",
    "        print(\"[*] Step:%d , test_accuracy:%.2f%%\" % (i,acc *100))"
   ]
  },
  {
   "cell_type": "code",
   "execution_count": 19,
   "metadata": {},
   "outputs": [
    {
     "name": "stdout",
     "output_type": "stream",
     "text": [
      "Resmin 0 olma ihtimali: 0.02%\n",
      "Resmin 1 olma ihtimali: 0.00%\n",
      "Resmin 2 olma ihtimali: 0.04%\n",
      "Resmin 3 olma ihtimali: 1.79%\n",
      "Resmin 4 olma ihtimali: 0.00%\n",
      "Resmin 5 olma ihtimali: 37.65%\n",
      "Resmin 6 olma ihtimali: 0.00%\n",
      "Resmin 7 olma ihtimali: 1.66%\n",
      "Resmin 8 olma ihtimali: 58.80%\n",
      "Resmin 9 olma ihtimali: 0.04%\n"
     ]
    },
    {
     "data": {
      "image/png": "[encoded data removed]",
      "text/plain": [
       "<matplotlib.figure.Figure at 0x7f5db527b290>"
      ]
     },
     "metadata": {},
     "output_type": "display_data"
    }
   ],
   "source": [
    "sample =random.choice(mnist.test.images)\n",
    "\n",
    "predictions=sess.run(y_pred,feed_dict={X:[sample]})[0]\n",
    "\n",
    "for i,v in enumerate(predictions):\n",
    "    print(u'Resmin %d olma ihtimali: %.2f%%' % (i,v *100))\n",
    "    \n",
    "show_digits(sample)"
   ]
  }
 ],
 "metadata": {
  "kernelspec": {
   "display_name": "Python 2",
   "language": "python",
   "name": "python2"
  },
  "language_info": {
   "codemirror_mode": {
    "name": "ipython",
    "version": 2
   },
   "file_extension": ".py",
   "mimetype": "text/x-python",
   "name": "python",
   "nbconvert_exporter": "python",
   "pygments_lexer": "ipython2",
   "version": "2.7.14"
  }
 },
 "nbformat": 4,
 "nbformat_minor": 2
}
